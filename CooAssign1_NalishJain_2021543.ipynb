{
  "cells": [
    {
      "cell_type": "markdown",
      "metadata": {
        "id": "C_CSiSfxxIw-"
      },
      "source": [
        "Problem1"
      ]
    },
    {
      "cell_type": "markdown",
      "metadata": {
        "id": "8oOavsOz2sKd"
      },
      "source": [
        "PartA\n"
      ]
    },
    {
      "cell_type": "code",
      "execution_count": null,
      "metadata": {
        "id": "Nvpp7je8w-d3",
        "colab": {
          "base_uri": "https://localhost:8080/",
          "height": 295
        },
        "outputId": "6b019ddf-b1f9-425b-8d0c-c1cf786333ca"
      },
      "outputs": [
        {
          "output_type": "display_data",
          "data": {
            "text/plain": [
              "<Figure size 432x288 with 1 Axes>"
            ],
            "image/png": "[encoded data removed]"
          },
          "metadata": {
            "needs_background": "light"
          }
        }
      ],
      "source": [
        "from matplotlib import pyplot as plt\n",
        "import math\n",
        "import numpy as np\n",
        "\n",
        "def f(x):\n",
        "  return math.log(x) + x**2\n",
        "\n",
        "def l(x):\n",
        "  #l(x) = f(1) + f'(1)(x-1) [using taylor's approximation theorem]\n",
        "  #f(1) = 1\n",
        "  #f'(1) = 3\n",
        "  # l(x) = 1 + 3(x-1) = 3x - 2\n",
        "  return 3*x - 2\n",
        "\n",
        "def q(x):\n",
        "  #q(x) = f(1) + f'(1)(x-1) + 1/2(f''(1))*(x-1)**2 [using taylor's approximation theorem]\n",
        "  #f(1) = 1\n",
        "  #f'(1) = 3\n",
        "  #f''(1) = 1\n",
        "  # q(x) = 1 + 3(x-1)+ (1/2)*(x-1)**2= 3x - 2  +(1/2)*(x-1)**2\n",
        "  return 3*x - 2  +(1/2)*((x-1)**2)\n",
        "\n",
        "inp = np.arange(0.01,2, 0.01)\n",
        "# print(inp)\n",
        "fout = []\n",
        "lout = []\n",
        "qout = []\n",
        "# Calculating corresponding values of f(x), l(X), q(x) \n",
        "for i in range(len(inp)):\n",
        "  fout.append(f(inp[i]))\n",
        "  lout.append(l(inp[i]))\n",
        "  qout.append(q(inp[i]))\n",
        "\n",
        "# Plotting the corresponding graph\n",
        "plt.plot(inp,fout)\n",
        "plt.plot(inp,lout)\n",
        "plt.plot(inp, qout)\n",
        "plt.title(\"Graph of f(x), l(x), q(x)\")\n",
        "plt.legend([\"f(x)\", \"l(x)\", \"q(x)\"])\n",
        "plt.xlabel(\"x\")\n",
        "plt.ylabel(\"y\")\n",
        "plt.show()\n",
        "\n",
        "\n",
        "\n",
        "\n",
        "\n"
      ]
    },
    {
      "cell_type": "markdown",
      "metadata": {
        "id": "HShCc2rs2x90"
      },
      "source": [
        "PartB\n"
      ]
    },
    {
      "cell_type": "code",
      "execution_count": null,
      "metadata": {
        "colab": {
          "base_uri": "https://localhost:8080/",
          "height": 364
        },
        "id": "YBb-1K6-21Qf",
        "outputId": "f806ee26-e0b6-47d6-b26e-deff5b6951fa"
      },
      "outputs": [
        {
          "output_type": "stream",
          "name": "stderr",
          "text": [
            "<ipython-input-2-c491a141de2e>:3: RuntimeWarning: invalid value encountered in double_scalars\n",
            "  return (f(x)-l(x))/(x-1)\n",
            "<ipython-input-2-c491a141de2e>:6: RuntimeWarning: invalid value encountered in double_scalars\n",
            "  return (f(x)-q(x))/((x-1)**2)\n"
          ]
        },
        {
          "output_type": "display_data",
          "data": {
            "text/plain": [
              "<Figure size 432x288 with 1 Axes>"
            ],
            "image/png": "[encoded data removed]"
          },
          "metadata": {
            "needs_background": "light"
          }
        }
      ],
      "source": [
        "# Created functions as defined in the question\n",
        "def El(x):\n",
        "  return (f(x)-l(x))/(x-1)\n",
        "\n",
        "def Eq(x):\n",
        "  return (f(x)-q(x))/((x-1)**2)\n",
        "\n",
        "elout = []\n",
        "eqout = []\n",
        "# Calculating linear and quadritic estimation error \n",
        "for i in range(len(inp)):\n",
        "  elout.append(El(inp[i]))\n",
        "  eqout.append(Eq(inp[i]))\n",
        "\n",
        "# Plotting the corresponding graph\n",
        "plt.plot(inp,elout)\n",
        "plt.plot(inp,eqout)\n",
        "plt.title(\"Graph of f(x)\")\n",
        "plt.legend([\"El(x)\", \"Eq(x)\"])\n",
        "plt.xlabel(\"x\")\n",
        "plt.ylabel(\"y\")\n",
        "plt.show()"
      ]
    },
    {
      "cell_type": "markdown",
      "metadata": {
        "id": "vTXbZE0E4O09"
      },
      "source": [
        "Problem2\n"
      ]
    },
    {
      "cell_type": "code",
      "execution_count": 3,
      "metadata": {
        "colab": {
          "base_uri": "https://localhost:8080/"
        },
        "id": "2pmcBaAM-Sau",
        "outputId": "09f8f416-cf8e-4317-83cf-e36545da98ed"
      },
      "outputs": [
        {
          "output_type": "stream",
          "name": "stdout",
          "text": [
            "Looking in indexes: https://pypi.org/simple, https://us-python.pkg.dev/colab-wheels/public/simple/\n",
            "Requirement already satisfied: matplotlib-venn in /usr/local/lib/python3.8/dist-packages (0.11.7)\n",
            "Requirement already satisfied: scipy in /usr/local/lib/python3.8/dist-packages (from matplotlib-venn) (1.7.3)\n",
            "Requirement already satisfied: numpy in /usr/local/lib/python3.8/dist-packages (from matplotlib-venn) (1.21.6)\n",
            "Requirement already satisfied: matplotlib in /usr/local/lib/python3.8/dist-packages (from matplotlib-venn) (3.2.2)\n",
            "Requirement already satisfied: pyparsing!=2.0.4,!=2.1.2,!=2.1.6,>=2.0.1 in /usr/local/lib/python3.8/dist-packages (from matplotlib->matplotlib-venn) (3.0.9)\n",
            "Requirement already satisfied: python-dateutil>=2.1 in /usr/local/lib/python3.8/dist-packages (from matplotlib->matplotlib-venn) (2.8.2)\n",
            "Requirement already satisfied: cycler>=0.10 in /usr/local/lib/python3.8/dist-packages (from matplotlib->matplotlib-venn) (0.11.0)\n",
            "Requirement already satisfied: kiwisolver>=1.0.1 in /usr/local/lib/python3.8/dist-packages (from matplotlib->matplotlib-venn) (1.4.4)\n",
            "Requirement already satisfied: six>=1.5 in /usr/local/lib/python3.8/dist-packages (from python-dateutil>=2.1->matplotlib->matplotlib-venn) (1.15.0)\n",
            "E: Package 'libfluidsynth1' has no installation candidate\n",
            "Looking in indexes: https://pypi.org/simple, https://us-python.pkg.dev/colab-wheels/public/simple/\n",
            "Collecting numdifftools\n",
            "  Downloading numdifftools-0.9.41-py2.py3-none-any.whl (100 kB)\n",
            "\u001b[2K     \u001b[90m━━━━━━━━━━━━━━━━━━━━━━━━━━━━━━━━━━━━━━━\u001b[0m \u001b[32m100.2/100.2 KB\u001b[0m \u001b[31m3.9 MB/s\u001b[0m eta \u001b[36m0:00:00\u001b[0m\n",
            "\u001b[?25hRequirement already satisfied: scipy>=0.8 in /usr/local/lib/python3.8/dist-packages (from numdifftools) (1.7.3)\n",
            "Requirement already satisfied: numpy>=1.9 in /usr/local/lib/python3.8/dist-packages (from numdifftools) (1.21.6)\n",
            "Installing collected packages: numdifftools\n",
            "Successfully installed numdifftools-0.9.41\n"
          ]
        }
      ],
      "source": [
        "# installing numdifftools\n",
        "!pip install matplotlib-venn\n",
        "!apt-get -qq install -y libfluidsynth1\n",
        "!pip install numdifftools"
      ]
    },
    {
      "cell_type": "code",
      "execution_count": 8,
      "metadata": {
        "id": "2S9p-4jX4Rf8",
        "colab": {
          "base_uri": "https://localhost:8080/"
        },
        "outputId": "d2e41b6d-3a9c-4ceb-ad3b-485bb8544f5c"
      },
      "outputs": [
        {
          "output_type": "stream",
          "name": "stdout",
          "text": [
            "[0.0106475  0.00466658]\n",
            "Final value : 2.057215818072526e-08\n"
          ]
        }
      ],
      "source": [
        "import numdifftools as nd\n",
        "import math\n",
        "import numpy as np\n",
        "# Created f(x) as given in the question Pdf\n",
        "def f(x):\n",
        "  return (x[0]**2 -3*(x[1]**2))**2 + (np.sin(x[0]**2 + x[1]**2))**2\n",
        "\n",
        "# Calculated mod of the gradient vector of f(x) and used Gradient in numdifftools\n",
        "# to calculate the gradient vector\n",
        "def modfgrad(x):\n",
        "  y = nd.Gradient(f)(x)\n",
        "  return (y[0]**2 + y[1]**2)**(0.5)\n",
        "\n",
        "# beta will be between (0,1)\n",
        "# alpha will be beteen (0, 0.5)\n",
        "\n",
        "def lineSearchAlgo(alpha, beta, x, d):\n",
        "  t = 1\n",
        "  while(f(x) - f(np.add(x, t*d))) < (-1)*alpha*((np.dot(nd.Gradient(f)(x), t*d))): \n",
        "    t = t*beta\n",
        "  return t  \n",
        "\n",
        "# calculated Df(x)(td) by finding the dot product of gradF and vector d scaled by t\n",
        "def gradientDescent(x, eta):\n",
        "  while(modfgrad(x) > eta):\n",
        "    d = (-1)*nd.Gradient(f)(x)\n",
        "    # print(d)\n",
        "    t = lineSearchAlgo(0.3, 0.8, x, d)\n",
        "\n",
        "    print(\"t : \",t, \" x : \",x, \" d : \", d)\n",
        "\n",
        "    x = x + t*d \n",
        "    # x[0] = x[0] + t*d[0]\n",
        "    # x[1] = x[1] + t*d[1]\n",
        "\n",
        "    # print(x, d, t)\n",
        "#   return x  \n",
        "\n",
        "# Calculated the hessian matrix of f(x) using Hessian function in numdifftools\n",
        "# Calculated the inverse of the matrix using np.linalg.inv()\n",
        "# Performed matrix multiplication by using np.matmul\n",
        "def newtonDescent(x, eta):\n",
        "  while(modfgrad(x) > eta):\n",
        "      d = -np.matmul(np.linalg.inv(nd.Hessian(f)(x)), nd.Gradient(f)(x)) \n",
        "      t = lineSearchAlgo(0.3, 0.8, x, d)\n",
        "      print(\"t : \",t, \" x : \",x, \" d : \", d)\n",
        "      x = x + t*d \n",
        "  return x\n",
        "\n",
        "# Calculated eigenValues of the hessian matrix using np.linalg.eigvals() to check whether\n",
        "# it is positive definite or not. If all the eigen values are greater than 0 then the matrix\n",
        "# is positive definite\n",
        "\n",
        "def combinationDescent(x, eta):\n",
        "  while(modfgrad(x) > eta):\n",
        "    hMatrix = nd.Hessian(f)(x)\n",
        "    EigenValues = np.linalg.eigvals(hMatrix)\n",
        "    flag = 0\n",
        "    d = []\n",
        "    for i in EigenValues:\n",
        "        if( i <= 0):\n",
        "          flag = 1\n",
        "          break\n",
        "    # Used newtonDescent algorithim if the hessian matrix of f(x) is positive definite\n",
        "    # and used gradientDescent algorithim if not.           \n",
        "    if(flag == 0):\n",
        "      d = -np.matmul(np.linalg.inv(nd.Hessian(f)(x)), nd.Gradient(f)(x)) \n",
        "    else:\n",
        "      d = (-1)*nd.Gradient(f)(x)\n",
        "    t = lineSearchAlgo(0.1, 0.3, x, d)\n",
        "    # print(\"t : \",t, \" x : \",x, \" d : \", d)\n",
        "    x = x + t*d\n",
        "  return x \n",
        "\n",
        "\n",
        "\n",
        "\n",
        "x = np.array([1,1])\n",
        "\n",
        "\n",
        "y = combinationDescent(x, 1e-5)\n",
        "# z = gradientDescent(x, 1e-5)\n",
        "# print(z)\n",
        "# print(\"Final value :\", f(z))\n",
        "print(y)\n",
        "print(\"Final value :\", f(y))\n"
      ]
    },
    {
      "cell_type": "markdown",
      "source": [
        "Question3"
      ],
      "metadata": {
        "id": "wHnUe2PiYuUl"
      }
    },
    {
      "cell_type": "code",
      "source": [
        "#Created g1, g2 and g3 as given in the question \n",
        "def g1(x):\n",
        "  return 2*x[1] - x[0]\n",
        "\n",
        "def g2(x):\n",
        "  return 2*x[0] - x[1]\n",
        "\n",
        "def g3(x):\n",
        "  return 1 -x[1] - x[0]\n",
        "\n",
        "def psi(x):\n",
        "  # log(a) + log(b) + log(c) = log(a*b*c)\n",
        "  # -log(a)= log(1/a)\n",
        "  # now Ψ(x) = -(log(g1(x)) + log(g2(x)) + log(g3(x)))\n",
        "  #  Ψ(x) = -log(g1(x)*g2(x)*g3(x))\n",
        "  #  Ψ(x) = log(1/(g1(x)*g2(x)*g3(x))) \n",
        "  # now since log is an increasing function minimizing 1/(g1(x)*g2(x)*g3(x)) will\n",
        "  # minimze Ψ(x)\n",
        "  return 1/(g1(x)*g2(x)*g3(x))\n",
        "\n",
        "#I am not writing comments to explain the next functions because they are similar to\n",
        "#functions used in question2 \n",
        "def modPsiGrad(x):\n",
        "  y = nd.Gradient(psi)(x)\n",
        "  return (y[0]**2 + y[1]**2)**(0.5)\n",
        "\n",
        "def lineSearch2(alpha, beta, x, d):\n",
        "  t = 1\n",
        "  while(psi(x) - psi(np.add(x, t*d))) < (-1)*alpha*((np.dot(nd.Gradient(psi)(x), t*d))): \n",
        "    t = t*beta\n",
        "  return t  \n",
        "\n",
        "def combinationDescent2(x, eta):\n",
        "  while(modPsiGrad(x) > eta):\n",
        "    hMatrix = nd.Hessian(psi)(x)\n",
        "    EigenValues = np.linalg.eigvals(hMatrix)\n",
        "    flag = 0\n",
        "    d = []\n",
        "    for i in EigenValues:\n",
        "        if( i <= 0):\n",
        "          flag = 1\n",
        "          break\n",
        "    if(flag == 0):\n",
        "      d = -np.matmul(np.linalg.inv(nd.Hessian(psi)(x)), nd.Gradient(psi)(x)) \n",
        "    else:\n",
        "      d = (-1)*nd.Gradient(psi)(x)\n",
        "    t = lineSearch2(0.1, 0.3, x, d)\n",
        "    # print(\"t : \",t, \" x : \",x, \" d : \", d)\n",
        "    x = x + t*d\n",
        "  return x \n",
        "\n",
        "x = np.array([0.25, 0.25])\n",
        "y = combinationDescent2(x, 1e-5)\n",
        "# z = gradientDescent2(x, 1e-5)\n",
        "# print(z)\n",
        "# print(\"Final value :\", np.log(psi(z)))\n",
        "print(y)\n",
        "# print(g1(y))\n",
        "# print(g2(y))\n",
        "# print(g3(y))\n",
        "print(\"Final value :\", np.log(psi(y)))\n"
      ],
      "metadata": {
        "colab": {
          "base_uri": "https://localhost:8080/"
        },
        "id": "BTFkXt-oY5TI",
        "outputId": "f64865b7-abd6-48b0-85b1-33fb24e82d36"
      },
      "execution_count": 9,
      "outputs": [
        {
          "output_type": "stream",
          "name": "stdout",
          "text": [
            "[0.33333333 0.33333333]\n",
            "Final value : 3.295836866004329\n"
          ]
        }
      ]
    }
  ],
  "metadata": {
    "colab": {
      "provenance": []
    },
    "kernelspec": {
      "display_name": "Python 3",
      "name": "python3"
    },
    "language_info": {
      "name": "python"
    }
  },
  "nbformat": 4,
  "nbformat_minor": 0
}